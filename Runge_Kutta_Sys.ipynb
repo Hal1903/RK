{
  "cells": [
    {
      "cell_type": "code",
      "execution_count": 42,
      "metadata": {},
      "outputs": [],
      "source": [
        "#'/bin/python3 -m pip install ipykernel -U --user --force-reinstall"
      ]
    },
    {
      "cell_type": "code",
      "execution_count": 73,
      "metadata": {
        "id": "hQ5m3KwPiDbk"
      },
      "outputs": [],
      "source": [
        "# Python program to implement Runge Kutta method for Kirchhoff's Law on the textbook Burder's 9th Ed.\n",
        "\n",
        "# def dydx(x, y):\n",
        "# \treturn 6*x*(y**2)\n",
        "\n",
        "def dydt(I1, I2):\n",
        "\treturn round(-4*I1+3*I2+6, 8)\n",
        "\n",
        "def dzdt(I1, I2):\n",
        "\treturn round(-2.4*I1+1.6*I2+3.6, 8)\n",
        "\n",
        "# Finds value of y for a given x using step size h\n",
        "# and initial value y0 at x0.\n",
        "# m is num of DE's\n",
        "def rungeKutta(t0, y0, z0, t, h):\n",
        "\t# Count number of iterations using step size or\n",
        "\t# step height h\n",
        "\tn = round((t - t0)/h)\n",
        "\t# print(f't={t}, t0={t0}, n={n}')\n",
        "\t# Iterate for number of iterations\n",
        "\ty = y0\n",
        "\tz = z0\n",
        "\tfor i in range(1, n+1):\n",
        "\t\tt0 = round(t0 + h, 6)\n",
        "\t\t\"Apply Runge Kutta Formulas to find next value of y\"\n",
        "\t\tk1 = h * dydt(t0, y)\n",
        "\t\tl1 = h * dzdt(t0, z)\n",
        "\t\tk2 = h * dydt(t0 + 0.5 * h, y + 0.5 * k1)\n",
        "\t\tl2 = h * dzdt(t0 + 0.5 * h, z + 0.5 * l1)\n",
        "\t\tk3 = h * dydt(t0 + 0.5 * h, y + 0.5 * k2)\n",
        "\t\tl3 = h * dzdt(t0 + 0.5 * h, z + 0.5 * l2)\n",
        "\t\tk4 = h * dydt(t0 + h, y + k3)\n",
        "\t\tl4 = h * dzdt(t0 + h, z + l3)\n",
        "\t\tprint(f'DEBUG:\\nk:{(k1, k2, k3, k4)}\\nl:{l1,l2,l3,l4}')\n",
        "\t\t# Update next value of y\n",
        "\t\ty = y + (1.0 / 6.0)*(k1 + 2 * k2 + 2 * k3 + k4)\n",
        "\t\tz = z + (1.0 / 6.0)*(l1 + 2 * l2 + 2 * l3 + l4)\n",
        "\t\tprint (f'(t, y, z): {(t0, y, z)}')\n",
        "\t\t# Update next value of t\n",
        "\t\t\n",
        "\treturn (y, z)"
      ]
    },
    {
      "cell_type": "code",
      "execution_count": 30,
      "metadata": {},
      "outputs": [],
      "source": [
        "import numpy as np"
      ]
    },
    {
      "cell_type": "code",
      "execution_count": 72,
      "metadata": {
        "colab": {
          "base_uri": "https://localhost:8080/"
        },
        "id": "-js2HwNHiIQO",
        "outputId": "dd4243be-de5e-4d05-8a14-7772252a3c7b"
      },
      "outputs": [
        {
          "name": "stdout",
          "output_type": "stream",
          "text": [
            "(t, y, z): (0.05, 0.30761890625, 0.115602432)\n",
            "(t, y, z): (0.1, 0.65423197925, 0.23458652041666667)\n",
            "(t, y, z): (0.15, 1.0461497853333332, 0.35723391325)\n",
            "(t, y, z): (0.2, 1.4907041523333333, 0.48384971641666663)\n",
            "(t, y, z): (0.25, 1.9964134436666667, 0.6147644470833333)\n",
            "(t, y, z): (0.3, 2.5731745809166666, 0.75033615025)\n",
            "(t, y, z): (0.35, 3.2324861392499997, 0.8909526910833333)\n",
            "(t, y, z): (0.4, 3.9877075504166664, 1.0370342396666667)\n",
            "(t, y, z): (0.45, 4.85436025025, 1.18903595975)\n",
            "(t, y, z): (0.5, 5.850477565, 1.3474509254166667)\n",
            "Exact: with t=0.5 (1.9029996031926582, 1.0144154517897137)\n"
          ]
        }
      ],
      "source": [
        "# Driver method rungeKutta(t0=0, y0=0, z0=0, t=0.5, h=0.1, m=2):\n",
        "t0 = 0.0\n",
        "I0_1 = 0.0\n",
        "t = 0.5\n",
        "I0_2 = 0.0\n",
        "h = 0.05\n",
        "\n",
        "r = rungeKutta(t0, I0_1, I0_2, t, h)\n",
        "print(f'Exact: with t={t}', (np.e**(-2*t)+1.875*np.e**(-0.4*t),\n",
        "                 -2.25*np.e**(-2*t)+2.25*np.e**(-0.4*t)))\n",
        "# round(number, k)"
      ]
    }
  ],
  "metadata": {
    "colab": {
      "provenance": []
    },
    "kernelspec": {
      "display_name": "Python 3",
      "name": "python3"
    },
    "language_info": {
      "codemirror_mode": {
        "name": "ipython",
        "version": 3
      },
      "file_extension": ".py",
      "mimetype": "text/x-python",
      "name": "python",
      "nbconvert_exporter": "python",
      "pygments_lexer": "ipython3",
      "version": "3.10.6"
    }
  },
  "nbformat": 4,
  "nbformat_minor": 0
}
